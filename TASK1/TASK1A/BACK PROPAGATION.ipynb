{
  "nbformat": 4,
  "nbformat_minor": 0,
  "metadata": {
    "colab": {
      "provenance": []
    },
    "kernelspec": {
      "name": "python3",
      "display_name": "Python 3"
    },
    "language_info": {
      "name": "python"
    }
  },
  "cells": [
    {
      "cell_type": "code",
      "execution_count": 101,
      "metadata": {
        "id": "rRofQgmQGtV7"
      },
      "outputs": [],
      "source": [
        "import numpy as np\n",
        "import pandas as pd"
      ]
    },
    {
      "cell_type": "code",
      "source": [
        "x=np.array(([2,9],[1,5],[3,6]),dtype=float)\n",
        "y=np.array(([92],[86],[89]),dtype=float)\n",
        "x=x/np.amax(x,axis=0)\n",
        "y=y/100"
      ],
      "metadata": {
        "id": "ecv6jbNIHOXX"
      },
      "execution_count": 102,
      "outputs": []
    },
    {
      "cell_type": "code",
      "source": [
        "def sigmoid(x):\n",
        "  return 1/(1+np.exp(-x))"
      ],
      "metadata": {
        "id": "xl8JjVI1H0_l"
      },
      "execution_count": 103,
      "outputs": []
    },
    {
      "cell_type": "code",
      "source": [
        "def der_sig(x):\n",
        "  return x*(1-x)"
      ],
      "metadata": {
        "id": "ib51pLf-IAIQ"
      },
      "execution_count": 104,
      "outputs": []
    },
    {
      "cell_type": "code",
      "source": [
        "epoch=5000\n",
        "#no. of layers\n",
        "lr=.09\n",
        "ip=2\n",
        "hl=3\n",
        "op=1\n",
        "#weights and bias\n",
        "w_hl=np.random.uniform(size=(ip,hl))\n",
        "w_op=np.random.uniform(size=(hl,op))\n",
        "b_hl=np.random.uniform(size=(1,hl))\n",
        "b_op=np.random.uniform(size=(1,op))\n",
        "#calculation\n",
        "for i in range(epoch):\n",
        "  #forward propagation\n",
        "  h_ip=np.dot(x,w_hl)+b_hl\n",
        "  h_act=sigmoid(h_ip)\n",
        "  op_ip=np.dot(h_act,w_op)+b_op\n",
        "  op_act=sigmoid(op_ip)\n",
        "  #backward propagation\n",
        "  op_grad=der_sig(op_act)\n",
        "  e_op=y-op_act\n",
        "  d_op=e_op*op_grad\n",
        "  h_grad=der_sig(h_act)\n",
        "  e_hl=np.dot(d_op,w_op.T)\n",
        "  d_hl=e_hl*h_grad\n",
        "  w_op+=h_act.T.dot(d_op)*lr\n",
        "  w_hl+=x.T.dot(d_hl)*lr"
      ],
      "metadata": {
        "id": "ZbVdufnTIF3n"
      },
      "execution_count": 112,
      "outputs": []
    },
    {
      "cell_type": "code",
      "source": [
        "print(\"Input: \",str(x))\n",
        "print(\"Output(actual): \",str(y))\n",
        "print(\"Output(predicted): \",str(op_act))"
      ],
      "metadata": {
        "colab": {
          "base_uri": "https://localhost:8080/"
        },
        "id": "mJET5s-bIke9",
        "outputId": "40698faf-2403-4fdd-d6bd-32f581da4702"
      },
      "execution_count": 113,
      "outputs": [
        {
          "output_type": "stream",
          "name": "stdout",
          "text": [
            "Input:  [[0.66666667 1.        ]\n",
            " [0.33333333 0.55555556]\n",
            " [1.         0.66666667]]\n",
            "Output(actual):  [[0.92]\n",
            " [0.86]\n",
            " [0.89]]\n",
            "Output(predicted):  [[0.89569946]\n",
            " [0.87964843]\n",
            " [0.89399263]]\n"
          ]
        }
      ]
    },
    {
      "cell_type": "code",
      "source": [],
      "metadata": {
        "id": "lPdAjvBLM7q9"
      },
      "execution_count": 69,
      "outputs": []
    }
  ]
}